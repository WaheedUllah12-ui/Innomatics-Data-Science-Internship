{
  "nbformat": 4,
  "nbformat_minor": 0,
  "metadata": {
    "colab": {
      "provenance": []
    },
    "kernelspec": {
      "name": "python3",
      "display_name": "Python 3"
    },
    "language_info": {
      "name": "python"
    }
  },
  "cells": [
    {
      "cell_type": "code",
      "execution_count": 1,
      "metadata": {
        "colab": {
          "base_uri": "https://localhost:8080/"
        },
        "id": "Q7_uICQiQj5l",
        "outputId": "bdff5fcf-8bb9-4176-eb4c-f4bdbd7fd425"
      },
      "outputs": [
        {
          "output_type": "execute_result",
          "data": {
            "text/plain": [
              "(9742, 3)"
            ]
          },
          "metadata": {},
          "execution_count": 1
        }
      ],
      "source": [
        "import pandas as pd\n",
        "\n",
        "# Load the CSV file\n",
        "file_path = '/content/movies.csv'\n",
        "movies_df = pd.read_csv(file_path)\n",
        "\n",
        "# Get the shape of the dataframe\n",
        "movies_shape = movies_df.shape\n",
        "movies_shape\n"
      ]
    },
    {
      "cell_type": "code",
      "source": [
        "import pandas as pd\n",
        "\n",
        "# Load the CSV file\n",
        "file_path = '/content/ratings.csv'\n",
        "ratings_df = pd.read_csv(file_path)\n",
        "\n",
        "# Get the shape of the dataframe\n",
        "ratings_shape = ratings_df.shape\n",
        "ratings_shape\n"
      ],
      "metadata": {
        "colab": {
          "base_uri": "https://localhost:8080/"
        },
        "id": "nDxlt0yFQ8WE",
        "outputId": "dfcc5503-2532-4609-8cf0-549883086347"
      },
      "execution_count": 2,
      "outputs": [
        {
          "output_type": "execute_result",
          "data": {
            "text/plain": [
              "(100836, 4)"
            ]
          },
          "metadata": {},
          "execution_count": 2
        }
      ]
    },
    {
      "cell_type": "code",
      "source": [
        "import pandas as pd\n",
        "\n",
        "# Load the CSV file\n",
        "file_path = '/content/ratings.csv'\n",
        "ratings_df = pd.read_csv(file_path)\n",
        "\n",
        "# Get the number of unique userId values\n",
        "unique_user_ids = ratings_df['userId'].nunique()\n",
        "unique_user_ids\n"
      ],
      "metadata": {
        "colab": {
          "base_uri": "https://localhost:8080/"
        },
        "id": "v76VP1irRrKK",
        "outputId": "cc9b4425-4e65-4816-b538-f953bd98f980"
      },
      "execution_count": 3,
      "outputs": [
        {
          "output_type": "execute_result",
          "data": {
            "text/plain": [
              "610"
            ]
          },
          "metadata": {},
          "execution_count": 3
        }
      ]
    },
    {
      "cell_type": "code",
      "source": [
        "import pandas as pd\n",
        "\n",
        "# Load the CSV file\n",
        "file_path = '/content/movies.csv'\n",
        "ratings_df = pd.read_csv(file_path)\n",
        "\n",
        "# Group by 'movieId' and count the number of ratings for each movie\n",
        "movie_ratings_count = ratings_df.groupby('movieId').size()\n",
        "\n",
        "# Find the movieId with the maximum number of ratings\n",
        "max_rated_movie_id = movie_ratings_count.idxmax()\n",
        "max_ratings = movie_ratings_count.max()\n",
        "\n",
        "# Print the movieId and the number of ratings\n",
        "print(f\"Movie ID with maximum ratings: {max_rated_movie_id}\")\n",
        "print(f\"Number of ratings: {max_ratings}\")\n",
        "\n",
        "# Load the movies data to find the movie title\n",
        "movies_file_path = '/content/movies.csv'\n",
        "movies_df = pd.read_csv(movies_file_path)\n",
        "\n",
        "# Find the movie title with the max_rated_movie_id\n",
        "max_rated_movie_title = movies_df.loc[movies_df['movieId'] == max_rated_movie_id, 'title'].values[0]\n",
        "print(f\"Movie with maximum ratings: {max_rated_movie_title}\")\n"
      ],
      "metadata": {
        "colab": {
          "base_uri": "https://localhost:8080/"
        },
        "id": "uqR2Qjx_RrM2",
        "outputId": "2516ff2f-48f3-4937-fce8-136db46b4f15"
      },
      "execution_count": 6,
      "outputs": [
        {
          "output_type": "stream",
          "name": "stdout",
          "text": [
            "Movie ID with maximum ratings: 1\n",
            "Number of ratings: 1\n",
            "Movie with maximum ratings: Toy Story (1995)\n"
          ]
        }
      ]
    },
    {
      "cell_type": "code",
      "source": [
        "import pandas as pd\n",
        "\n",
        "# Load the ratings data\n",
        "ratings_df = pd.read_csv('/content/movies.csv')\n",
        "\n",
        "# Group by 'movieId' and count the number of ratings for each movie\n",
        "movie_ratings_count = ratings_df.groupby('movieId').size()\n",
        "\n",
        "# Find the movieId with the maximum number of ratings\n",
        "max_rated_movie_id = movie_ratings_count.idxmax()\n",
        "\n",
        "# Find the maximum number of ratings\n",
        "max_ratings = movie_ratings_count.max()\n",
        "\n",
        "# Load the movies data\n",
        "movies_df = pd.read_csv('/content/movies.csv')\n",
        "\n",
        "# Get the movie title with the maximum number of ratings\n",
        "max_rated_movie_title = movies_df.loc[movies_df['movieId'] == max_rated_movie_id, 'title'].values[0]\n",
        "\n",
        "# Output the result\n",
        "print(f\"Movie with maximum ratings: {max_rated_movie_title}\")\n",
        "print(f\"Movie ID: {max_rated_movie_id}\")\n",
        "print(f\"Number of ratings: {max_ratings}\")\n"
      ],
      "metadata": {
        "colab": {
          "base_uri": "https://localhost:8080/"
        },
        "id": "Uj6u-AcUn2H5",
        "outputId": "b2487f34-1541-400a-f1db-86afd55c24b0"
      },
      "execution_count": 2,
      "outputs": [
        {
          "output_type": "stream",
          "name": "stdout",
          "text": [
            "Movie with maximum ratings: Toy Story (1995)\n",
            "Movie ID: 1\n",
            "Number of ratings: 1\n"
          ]
        }
      ]
    },
    {
      "cell_type": "code",
      "source": [
        "import pandas as pd\n",
        "\n",
        "# Load the movies data to find the movieId for \"Matrix, The (1999)\"\n",
        "movies_df = pd.read_csv('/content/movies.csv')\n",
        "\n",
        "# Find the movieId of \"Matrix, The (1999)\"\n",
        "matrix_movie_id = movies_df.loc[movies_df['title'] == 'Matrix, The (1999)', 'movieId'].values[0]\n",
        "\n",
        "# Load the tags data to find all tags for the movie with movieId\n",
        "tags_df = pd.read_csv('/content/movies.csv')\n",
        "\n",
        "# Filter the tags for the movieId of \"Matrix, The (1999)\"\n",
        "matrix_tags = tags_df.loc[tags_df['movieId'] == matrix_movie_id, 'tag']\n",
        "\n",
        "# Output the unique tags\n",
        "unique_matrix_tags = matrix_tags.unique()\n",
        "print(f\"Tags submitted by users for 'Matrix, The (1999)': {unique_matrix_tags}\")\n"
      ],
      "metadata": {
        "colab": {
          "base_uri": "https://localhost:8080/",
          "height": 547
        },
        "id": "VpLYN0FKofVF",
        "outputId": "094414f4-3603-46ef-bd07-231a7923cb92"
      },
      "execution_count": 7,
      "outputs": [
        {
          "output_type": "error",
          "ename": "KeyError",
          "evalue": "'tag'",
          "traceback": [
            "\u001b[0;31m---------------------------------------------------------------------------\u001b[0m",
            "\u001b[0;31mKeyError\u001b[0m                                  Traceback (most recent call last)",
            "\u001b[0;32m/usr/local/lib/python3.10/dist-packages/pandas/core/indexes/base.py\u001b[0m in \u001b[0;36mget_loc\u001b[0;34m(self, key)\u001b[0m\n\u001b[1;32m   3790\u001b[0m         \u001b[0;32mtry\u001b[0m\u001b[0;34m:\u001b[0m\u001b[0;34m\u001b[0m\u001b[0;34m\u001b[0m\u001b[0m\n\u001b[0;32m-> 3791\u001b[0;31m             \u001b[0;32mreturn\u001b[0m \u001b[0mself\u001b[0m\u001b[0;34m.\u001b[0m\u001b[0m_engine\u001b[0m\u001b[0;34m.\u001b[0m\u001b[0mget_loc\u001b[0m\u001b[0;34m(\u001b[0m\u001b[0mcasted_key\u001b[0m\u001b[0;34m)\u001b[0m\u001b[0;34m\u001b[0m\u001b[0;34m\u001b[0m\u001b[0m\n\u001b[0m\u001b[1;32m   3792\u001b[0m         \u001b[0;32mexcept\u001b[0m \u001b[0mKeyError\u001b[0m \u001b[0;32mas\u001b[0m \u001b[0merr\u001b[0m\u001b[0;34m:\u001b[0m\u001b[0;34m\u001b[0m\u001b[0;34m\u001b[0m\u001b[0m\n",
            "\u001b[0;32mindex.pyx\u001b[0m in \u001b[0;36mpandas._libs.index.IndexEngine.get_loc\u001b[0;34m()\u001b[0m\n",
            "\u001b[0;32mindex.pyx\u001b[0m in \u001b[0;36mpandas._libs.index.IndexEngine.get_loc\u001b[0;34m()\u001b[0m\n",
            "\u001b[0;32mpandas/_libs/hashtable_class_helper.pxi\u001b[0m in \u001b[0;36mpandas._libs.hashtable.PyObjectHashTable.get_item\u001b[0;34m()\u001b[0m\n",
            "\u001b[0;32mpandas/_libs/hashtable_class_helper.pxi\u001b[0m in \u001b[0;36mpandas._libs.hashtable.PyObjectHashTable.get_item\u001b[0;34m()\u001b[0m\n",
            "\u001b[0;31mKeyError\u001b[0m: 'tag'",
            "\nThe above exception was the direct cause of the following exception:\n",
            "\u001b[0;31mKeyError\u001b[0m                                  Traceback (most recent call last)",
            "\u001b[0;32m<ipython-input-7-670a8531a30a>\u001b[0m in \u001b[0;36m<cell line: 13>\u001b[0;34m()\u001b[0m\n\u001b[1;32m     11\u001b[0m \u001b[0;34m\u001b[0m\u001b[0m\n\u001b[1;32m     12\u001b[0m \u001b[0;31m# Filter the tags for the movieId of \"Matrix, The (1999)\"\u001b[0m\u001b[0;34m\u001b[0m\u001b[0;34m\u001b[0m\u001b[0m\n\u001b[0;32m---> 13\u001b[0;31m \u001b[0mmatrix_tags\u001b[0m \u001b[0;34m=\u001b[0m \u001b[0mtags_df\u001b[0m\u001b[0;34m.\u001b[0m\u001b[0mloc\u001b[0m\u001b[0;34m[\u001b[0m\u001b[0mtags_df\u001b[0m\u001b[0;34m[\u001b[0m\u001b[0;34m'movieId'\u001b[0m\u001b[0;34m]\u001b[0m \u001b[0;34m==\u001b[0m \u001b[0mmatrix_movie_id\u001b[0m\u001b[0;34m,\u001b[0m \u001b[0;34m'tag'\u001b[0m\u001b[0;34m]\u001b[0m\u001b[0;34m\u001b[0m\u001b[0;34m\u001b[0m\u001b[0m\n\u001b[0m\u001b[1;32m     14\u001b[0m \u001b[0;34m\u001b[0m\u001b[0m\n\u001b[1;32m     15\u001b[0m \u001b[0;31m# Output the unique tags\u001b[0m\u001b[0;34m\u001b[0m\u001b[0;34m\u001b[0m\u001b[0m\n",
            "\u001b[0;32m/usr/local/lib/python3.10/dist-packages/pandas/core/indexing.py\u001b[0m in \u001b[0;36m__getitem__\u001b[0;34m(self, key)\u001b[0m\n\u001b[1;32m   1145\u001b[0m             \u001b[0;32mif\u001b[0m \u001b[0mself\u001b[0m\u001b[0;34m.\u001b[0m\u001b[0m_is_scalar_access\u001b[0m\u001b[0;34m(\u001b[0m\u001b[0mkey\u001b[0m\u001b[0;34m)\u001b[0m\u001b[0;34m:\u001b[0m\u001b[0;34m\u001b[0m\u001b[0;34m\u001b[0m\u001b[0m\n\u001b[1;32m   1146\u001b[0m                 \u001b[0;32mreturn\u001b[0m \u001b[0mself\u001b[0m\u001b[0;34m.\u001b[0m\u001b[0mobj\u001b[0m\u001b[0;34m.\u001b[0m\u001b[0m_get_value\u001b[0m\u001b[0;34m(\u001b[0m\u001b[0;34m*\u001b[0m\u001b[0mkey\u001b[0m\u001b[0;34m,\u001b[0m \u001b[0mtakeable\u001b[0m\u001b[0;34m=\u001b[0m\u001b[0mself\u001b[0m\u001b[0;34m.\u001b[0m\u001b[0m_takeable\u001b[0m\u001b[0;34m)\u001b[0m\u001b[0;34m\u001b[0m\u001b[0;34m\u001b[0m\u001b[0m\n\u001b[0;32m-> 1147\u001b[0;31m             \u001b[0;32mreturn\u001b[0m \u001b[0mself\u001b[0m\u001b[0;34m.\u001b[0m\u001b[0m_getitem_tuple\u001b[0m\u001b[0;34m(\u001b[0m\u001b[0mkey\u001b[0m\u001b[0;34m)\u001b[0m\u001b[0;34m\u001b[0m\u001b[0;34m\u001b[0m\u001b[0m\n\u001b[0m\u001b[1;32m   1148\u001b[0m         \u001b[0;32melse\u001b[0m\u001b[0;34m:\u001b[0m\u001b[0;34m\u001b[0m\u001b[0;34m\u001b[0m\u001b[0m\n\u001b[1;32m   1149\u001b[0m             \u001b[0;31m# we by definition only have the 0th axis\u001b[0m\u001b[0;34m\u001b[0m\u001b[0;34m\u001b[0m\u001b[0m\n",
            "\u001b[0;32m/usr/local/lib/python3.10/dist-packages/pandas/core/indexing.py\u001b[0m in \u001b[0;36m_getitem_tuple\u001b[0;34m(self, tup)\u001b[0m\n\u001b[1;32m   1328\u001b[0m         \u001b[0;32mwith\u001b[0m \u001b[0msuppress\u001b[0m\u001b[0;34m(\u001b[0m\u001b[0mIndexingError\u001b[0m\u001b[0;34m)\u001b[0m\u001b[0;34m:\u001b[0m\u001b[0;34m\u001b[0m\u001b[0;34m\u001b[0m\u001b[0m\n\u001b[1;32m   1329\u001b[0m             \u001b[0mtup\u001b[0m \u001b[0;34m=\u001b[0m \u001b[0mself\u001b[0m\u001b[0;34m.\u001b[0m\u001b[0m_expand_ellipsis\u001b[0m\u001b[0;34m(\u001b[0m\u001b[0mtup\u001b[0m\u001b[0;34m)\u001b[0m\u001b[0;34m\u001b[0m\u001b[0;34m\u001b[0m\u001b[0m\n\u001b[0;32m-> 1330\u001b[0;31m             \u001b[0;32mreturn\u001b[0m \u001b[0mself\u001b[0m\u001b[0;34m.\u001b[0m\u001b[0m_getitem_lowerdim\u001b[0m\u001b[0;34m(\u001b[0m\u001b[0mtup\u001b[0m\u001b[0;34m)\u001b[0m\u001b[0;34m\u001b[0m\u001b[0;34m\u001b[0m\u001b[0m\n\u001b[0m\u001b[1;32m   1331\u001b[0m \u001b[0;34m\u001b[0m\u001b[0m\n\u001b[1;32m   1332\u001b[0m         \u001b[0;31m# no multi-index, so validate all of the indexers\u001b[0m\u001b[0;34m\u001b[0m\u001b[0;34m\u001b[0m\u001b[0m\n",
            "\u001b[0;32m/usr/local/lib/python3.10/dist-packages/pandas/core/indexing.py\u001b[0m in \u001b[0;36m_getitem_lowerdim\u001b[0;34m(self, tup)\u001b[0m\n\u001b[1;32m   1037\u001b[0m                 \u001b[0;31m# We don't need to check for tuples here because those are\u001b[0m\u001b[0;34m\u001b[0m\u001b[0;34m\u001b[0m\u001b[0m\n\u001b[1;32m   1038\u001b[0m                 \u001b[0;31m#  caught by the _is_nested_tuple_indexer check above.\u001b[0m\u001b[0;34m\u001b[0m\u001b[0;34m\u001b[0m\u001b[0m\n\u001b[0;32m-> 1039\u001b[0;31m                 \u001b[0msection\u001b[0m \u001b[0;34m=\u001b[0m \u001b[0mself\u001b[0m\u001b[0;34m.\u001b[0m\u001b[0m_getitem_axis\u001b[0m\u001b[0;34m(\u001b[0m\u001b[0mkey\u001b[0m\u001b[0;34m,\u001b[0m \u001b[0maxis\u001b[0m\u001b[0;34m=\u001b[0m\u001b[0mi\u001b[0m\u001b[0;34m)\u001b[0m\u001b[0;34m\u001b[0m\u001b[0;34m\u001b[0m\u001b[0m\n\u001b[0m\u001b[1;32m   1040\u001b[0m \u001b[0;34m\u001b[0m\u001b[0m\n\u001b[1;32m   1041\u001b[0m                 \u001b[0;31m# We should never have a scalar section here, because\u001b[0m\u001b[0;34m\u001b[0m\u001b[0;34m\u001b[0m\u001b[0m\n",
            "\u001b[0;32m/usr/local/lib/python3.10/dist-packages/pandas/core/indexing.py\u001b[0m in \u001b[0;36m_getitem_axis\u001b[0;34m(self, key, axis)\u001b[0m\n\u001b[1;32m   1391\u001b[0m         \u001b[0;31m# fall thru to straight lookup\u001b[0m\u001b[0;34m\u001b[0m\u001b[0;34m\u001b[0m\u001b[0m\n\u001b[1;32m   1392\u001b[0m         \u001b[0mself\u001b[0m\u001b[0;34m.\u001b[0m\u001b[0m_validate_key\u001b[0m\u001b[0;34m(\u001b[0m\u001b[0mkey\u001b[0m\u001b[0;34m,\u001b[0m \u001b[0maxis\u001b[0m\u001b[0;34m)\u001b[0m\u001b[0;34m\u001b[0m\u001b[0;34m\u001b[0m\u001b[0m\n\u001b[0;32m-> 1393\u001b[0;31m         \u001b[0;32mreturn\u001b[0m \u001b[0mself\u001b[0m\u001b[0;34m.\u001b[0m\u001b[0m_get_label\u001b[0m\u001b[0;34m(\u001b[0m\u001b[0mkey\u001b[0m\u001b[0;34m,\u001b[0m \u001b[0maxis\u001b[0m\u001b[0;34m=\u001b[0m\u001b[0maxis\u001b[0m\u001b[0;34m)\u001b[0m\u001b[0;34m\u001b[0m\u001b[0;34m\u001b[0m\u001b[0m\n\u001b[0m\u001b[1;32m   1394\u001b[0m \u001b[0;34m\u001b[0m\u001b[0m\n\u001b[1;32m   1395\u001b[0m     \u001b[0;32mdef\u001b[0m \u001b[0m_get_slice_axis\u001b[0m\u001b[0;34m(\u001b[0m\u001b[0mself\u001b[0m\u001b[0;34m,\u001b[0m \u001b[0mslice_obj\u001b[0m\u001b[0;34m:\u001b[0m \u001b[0mslice\u001b[0m\u001b[0;34m,\u001b[0m \u001b[0maxis\u001b[0m\u001b[0;34m:\u001b[0m \u001b[0mAxisInt\u001b[0m\u001b[0;34m)\u001b[0m\u001b[0;34m:\u001b[0m\u001b[0;34m\u001b[0m\u001b[0;34m\u001b[0m\u001b[0m\n",
            "\u001b[0;32m/usr/local/lib/python3.10/dist-packages/pandas/core/indexing.py\u001b[0m in \u001b[0;36m_get_label\u001b[0;34m(self, label, axis)\u001b[0m\n\u001b[1;32m   1341\u001b[0m     \u001b[0;32mdef\u001b[0m \u001b[0m_get_label\u001b[0m\u001b[0;34m(\u001b[0m\u001b[0mself\u001b[0m\u001b[0;34m,\u001b[0m \u001b[0mlabel\u001b[0m\u001b[0;34m,\u001b[0m \u001b[0maxis\u001b[0m\u001b[0;34m:\u001b[0m \u001b[0mAxisInt\u001b[0m\u001b[0;34m)\u001b[0m\u001b[0;34m:\u001b[0m\u001b[0;34m\u001b[0m\u001b[0;34m\u001b[0m\u001b[0m\n\u001b[1;32m   1342\u001b[0m         \u001b[0;31m# GH#5567 this will fail if the label is not present in the axis.\u001b[0m\u001b[0;34m\u001b[0m\u001b[0;34m\u001b[0m\u001b[0m\n\u001b[0;32m-> 1343\u001b[0;31m         \u001b[0;32mreturn\u001b[0m \u001b[0mself\u001b[0m\u001b[0;34m.\u001b[0m\u001b[0mobj\u001b[0m\u001b[0;34m.\u001b[0m\u001b[0mxs\u001b[0m\u001b[0;34m(\u001b[0m\u001b[0mlabel\u001b[0m\u001b[0;34m,\u001b[0m \u001b[0maxis\u001b[0m\u001b[0;34m=\u001b[0m\u001b[0maxis\u001b[0m\u001b[0;34m)\u001b[0m\u001b[0;34m\u001b[0m\u001b[0;34m\u001b[0m\u001b[0m\n\u001b[0m\u001b[1;32m   1344\u001b[0m \u001b[0;34m\u001b[0m\u001b[0m\n\u001b[1;32m   1345\u001b[0m     \u001b[0;32mdef\u001b[0m \u001b[0m_handle_lowerdim_multi_index_axis0\u001b[0m\u001b[0;34m(\u001b[0m\u001b[0mself\u001b[0m\u001b[0;34m,\u001b[0m \u001b[0mtup\u001b[0m\u001b[0;34m:\u001b[0m \u001b[0mtuple\u001b[0m\u001b[0;34m)\u001b[0m\u001b[0;34m:\u001b[0m\u001b[0;34m\u001b[0m\u001b[0;34m\u001b[0m\u001b[0m\n",
            "\u001b[0;32m/usr/local/lib/python3.10/dist-packages/pandas/core/generic.py\u001b[0m in \u001b[0;36mxs\u001b[0;34m(self, key, axis, level, drop_level)\u001b[0m\n\u001b[1;32m   4220\u001b[0m         \u001b[0;32mif\u001b[0m \u001b[0maxis\u001b[0m \u001b[0;34m==\u001b[0m \u001b[0;36m1\u001b[0m\u001b[0;34m:\u001b[0m\u001b[0;34m\u001b[0m\u001b[0;34m\u001b[0m\u001b[0m\n\u001b[1;32m   4221\u001b[0m             \u001b[0;32mif\u001b[0m \u001b[0mdrop_level\u001b[0m\u001b[0;34m:\u001b[0m\u001b[0;34m\u001b[0m\u001b[0;34m\u001b[0m\u001b[0m\n\u001b[0;32m-> 4222\u001b[0;31m                 \u001b[0;32mreturn\u001b[0m \u001b[0mself\u001b[0m\u001b[0;34m[\u001b[0m\u001b[0mkey\u001b[0m\u001b[0;34m]\u001b[0m\u001b[0;34m\u001b[0m\u001b[0;34m\u001b[0m\u001b[0m\n\u001b[0m\u001b[1;32m   4223\u001b[0m             \u001b[0mindex\u001b[0m \u001b[0;34m=\u001b[0m \u001b[0mself\u001b[0m\u001b[0;34m.\u001b[0m\u001b[0mcolumns\u001b[0m\u001b[0;34m\u001b[0m\u001b[0;34m\u001b[0m\u001b[0m\n\u001b[1;32m   4224\u001b[0m         \u001b[0;32melse\u001b[0m\u001b[0;34m:\u001b[0m\u001b[0;34m\u001b[0m\u001b[0;34m\u001b[0m\u001b[0m\n",
            "\u001b[0;32m/usr/local/lib/python3.10/dist-packages/pandas/core/frame.py\u001b[0m in \u001b[0;36m__getitem__\u001b[0;34m(self, key)\u001b[0m\n\u001b[1;32m   3891\u001b[0m             \u001b[0;32mif\u001b[0m \u001b[0mself\u001b[0m\u001b[0;34m.\u001b[0m\u001b[0mcolumns\u001b[0m\u001b[0;34m.\u001b[0m\u001b[0mnlevels\u001b[0m \u001b[0;34m>\u001b[0m \u001b[0;36m1\u001b[0m\u001b[0;34m:\u001b[0m\u001b[0;34m\u001b[0m\u001b[0;34m\u001b[0m\u001b[0m\n\u001b[1;32m   3892\u001b[0m                 \u001b[0;32mreturn\u001b[0m \u001b[0mself\u001b[0m\u001b[0;34m.\u001b[0m\u001b[0m_getitem_multilevel\u001b[0m\u001b[0;34m(\u001b[0m\u001b[0mkey\u001b[0m\u001b[0;34m)\u001b[0m\u001b[0;34m\u001b[0m\u001b[0;34m\u001b[0m\u001b[0m\n\u001b[0;32m-> 3893\u001b[0;31m             \u001b[0mindexer\u001b[0m \u001b[0;34m=\u001b[0m \u001b[0mself\u001b[0m\u001b[0;34m.\u001b[0m\u001b[0mcolumns\u001b[0m\u001b[0;34m.\u001b[0m\u001b[0mget_loc\u001b[0m\u001b[0;34m(\u001b[0m\u001b[0mkey\u001b[0m\u001b[0;34m)\u001b[0m\u001b[0;34m\u001b[0m\u001b[0;34m\u001b[0m\u001b[0m\n\u001b[0m\u001b[1;32m   3894\u001b[0m             \u001b[0;32mif\u001b[0m \u001b[0mis_integer\u001b[0m\u001b[0;34m(\u001b[0m\u001b[0mindexer\u001b[0m\u001b[0;34m)\u001b[0m\u001b[0;34m:\u001b[0m\u001b[0;34m\u001b[0m\u001b[0;34m\u001b[0m\u001b[0m\n\u001b[1;32m   3895\u001b[0m                 \u001b[0mindexer\u001b[0m \u001b[0;34m=\u001b[0m \u001b[0;34m[\u001b[0m\u001b[0mindexer\u001b[0m\u001b[0;34m]\u001b[0m\u001b[0;34m\u001b[0m\u001b[0;34m\u001b[0m\u001b[0m\n",
            "\u001b[0;32m/usr/local/lib/python3.10/dist-packages/pandas/core/indexes/base.py\u001b[0m in \u001b[0;36mget_loc\u001b[0;34m(self, key)\u001b[0m\n\u001b[1;32m   3796\u001b[0m             ):\n\u001b[1;32m   3797\u001b[0m                 \u001b[0;32mraise\u001b[0m \u001b[0mInvalidIndexError\u001b[0m\u001b[0;34m(\u001b[0m\u001b[0mkey\u001b[0m\u001b[0;34m)\u001b[0m\u001b[0;34m\u001b[0m\u001b[0;34m\u001b[0m\u001b[0m\n\u001b[0;32m-> 3798\u001b[0;31m             \u001b[0;32mraise\u001b[0m \u001b[0mKeyError\u001b[0m\u001b[0;34m(\u001b[0m\u001b[0mkey\u001b[0m\u001b[0;34m)\u001b[0m \u001b[0;32mfrom\u001b[0m \u001b[0merr\u001b[0m\u001b[0;34m\u001b[0m\u001b[0;34m\u001b[0m\u001b[0m\n\u001b[0m\u001b[1;32m   3799\u001b[0m         \u001b[0;32mexcept\u001b[0m \u001b[0mTypeError\u001b[0m\u001b[0;34m:\u001b[0m\u001b[0;34m\u001b[0m\u001b[0;34m\u001b[0m\u001b[0m\n\u001b[1;32m   3800\u001b[0m             \u001b[0;31m# If we have a listlike key, _check_indexing_error will raise\u001b[0m\u001b[0;34m\u001b[0m\u001b[0;34m\u001b[0m\u001b[0m\n",
            "\u001b[0;31mKeyError\u001b[0m: 'tag'"
          ]
        }
      ]
    },
    {
      "source": [
        "import pandas as pd\n",
        "\n",
        "# Load the movies data to find the movieId for \"Matrix, The (1999)\"\n",
        "movies_df = pd.read_csv('/content/movies.csv')\n",
        "\n",
        "# Find the movieId of \"Matrix, The (1999)\"\n",
        "matrix_movie_id = movies_df.loc[movies_df['title'] == 'Matrix, The (1999)', 'movieId'].values[0]\n",
        "\n",
        "# Load the tags data to find all tags for the movie with movieId\n",
        "tags_df = pd.read_csv('/content/tags.csv') # Changed file to tags.csv\n",
        "\n",
        "# Filter the tags for the movieId of \"Matrix, The (1999)\"\n",
        "matrix_tags = tags_df.loc[tags_df['movieId'] == matrix_movie_id, 'tag']\n",
        "\n",
        "# Output the unique tags\n",
        "unique_matrix_tags = matrix_tags.unique()\n",
        "print(f\"Tags submitted by users for 'Matrix, The (1999)': {unique_matrix_tags}\")"
      ],
      "cell_type": "code",
      "metadata": {
        "colab": {
          "base_uri": "https://localhost:8080/"
        },
        "id": "LS769yJSpUiu",
        "outputId": "6509789b-2af0-4b7e-ba95-62443f23f931"
      },
      "execution_count": 8,
      "outputs": [
        {
          "output_type": "stream",
          "name": "stdout",
          "text": [
            "Tags submitted by users for 'Matrix, The (1999)': ['martial arts' 'sci-fi' 'alternate universe' 'philosophy'\n",
            " 'post apocalyptic']\n"
          ]
        }
      ]
    },
    {
      "cell_type": "code",
      "source": [
        "import pandas as pd\n",
        "\n",
        "# Load the movies data to find the movieId for \"Terminator 2: Judgment Day (1991)\"\n",
        "movies_df = pd.read_csv('/content/movies.csv')\n",
        "\n",
        "# Find the movieId of \"Terminator 2: Judgment Day (1991)\"\n",
        "terminator_movie_id = movies_df.loc[movies_df['title'] == 'Terminator 2: Judgment Day (1991)', 'movieId'].values[0]\n",
        "\n",
        "# Load the ratings data to find all ratings for the movie with the movieId\n",
        "ratings_df = pd.read_csv('/content/ratings.csv')\n",
        "\n",
        "# Filter the ratings for the movieId of \"Terminator 2: Judgment Day (1991)\"\n",
        "terminator_ratings = ratings_df.loc[ratings_df['movieId'] == terminator_movie_id, 'rating']\n",
        "\n",
        "# Calculate the average rating\n",
        "average_rating = terminator_ratings.mean()\n",
        "\n",
        "# Output the average rating\n",
        "print(f\"The average user rating for 'Terminator 2: Judgment Day (1991)' is: {average_rating:.2f}\")\n"
      ],
      "metadata": {
        "colab": {
          "base_uri": "https://localhost:8080/"
        },
        "id": "F6Dt5PxcpLKc",
        "outputId": "7fa1a8dd-7986-45d3-e9ad-a71f31cf1a21"
      },
      "execution_count": 9,
      "outputs": [
        {
          "output_type": "stream",
          "name": "stdout",
          "text": [
            "The average user rating for 'Terminator 2: Judgment Day (1991)' is: 3.97\n"
          ]
        }
      ]
    },
    {
      "cell_type": "code",
      "source": [
        "import pandas as pd\n",
        "import matplotlib.pyplot as plt\n",
        "\n",
        "# Load the movies data to find the movieId for \"Fight Club (1999)\"\n",
        "movies_df = pd.read_csv('/content/movies.csv')\n",
        "\n",
        "# Find the movieId of \"Fight Club (1999)\"\n",
        "fight_club_movie_id = movies_df.loc[movies_df['title'] == 'Fight Club (1999)', 'movieId'].values[0]\n",
        "\n",
        "# Load the ratings data to find all ratings for the movie with the movieId\n",
        "ratings_df = pd.read_csv('/content/ratings.csv')\n",
        "\n",
        "# Filter the ratings for the movieId of \"Fight Club (1999)\"\n",
        "fight_club_ratings = ratings_df.loc[ratings_df['movieId'] == fight_club_movie_id, 'rating']\n",
        "\n",
        "# Plot the distribution of the ratings\n",
        "plt.figure(figsize=(10, 6))\n",
        "plt.hist(fight_club_ratings, bins=10, edgecolor='black', alpha=0.7)\n",
        "plt.title('Distribution of User Ratings for \"Fight Club (1999)\"')\n",
        "plt.xlabel('Rating')\n",
        "plt.ylabel('Frequency')\n",
        "plt.grid(axis='y')\n",
        "plt.show()\n",
        "\n",
        "# Optional: Box plot for additional insights\n",
        "plt.figure(figsize=(6, 4))\n",
        "plt.boxplot(fight_club_ratings, vert=False)\n",
        "plt.title('Box Plot of User Ratings for \"Fight Club (1999)\"')\n",
        "plt.xlabel('Rating')\n",
        "plt.show()\n"
      ],
      "metadata": {
        "colab": {
          "base_uri": "https://localhost:8080/",
          "height": 957
        },
        "id": "j3LJG0HMqH97",
        "outputId": "306c5602-854f-4025-c67b-db5f100074fb"
      },
      "execution_count": 10,
      "outputs": [
        {
          "output_type": "display_data",
          "data": {
            "text/plain": [
              "<Figure size 1000x600 with 1 Axes>"
            ],
            "image/png": "[encoded data removed]"
          },
          "metadata": {}
        },
        {
          "output_type": "display_data",
          "data": {
            "text/plain": [
              "<Figure size 600x400 with 1 Axes>"
            ],
            "image/png": "[encoded data removed]"
          },
          "metadata": {}
        }
      ]
    },
    {
      "cell_type": "code",
      "source": [
        "import pandas as pd\n",
        "\n",
        "# Load the CSV files\n",
        "ratings_file_path = '/content/ratings.csv'\n",
        "movies_file_path = '/content/movies.csv'\n",
        "\n",
        "# Read the ratings and movies CSV files into dataframes\n",
        "ratings_df = pd.read_csv(ratings_file_path)\n",
        "movies_df = pd.read_csv(movies_file_path)\n",
        "\n",
        "# Step 1: Group by 'movieId' and calculate the 'count' and 'mean' of ratings\n",
        "grouped_ratings = ratings_df.groupby('movieId').agg(\n",
        "    rating_count=('rating', 'count'),\n",
        "    rating_mean=('rating', 'mean')\n",
        ").reset_index()\n",
        "\n",
        "# Step 2: Merge the movies_df with grouped_ratings using an inner join on 'movieId'\n",
        "merged_df = pd.merge(movies_df, grouped_ratings, on='movieId', how='inner')\n",
        "\n",
        "# Step 3: Filter movies that have more than 50 user ratings\n",
        "filtered_df = merged_df[merged_df['rating_count'] > 50]\n",
        "\n",
        "# Step 4: Find the movie with the highest average user rating\n",
        "most_popular_movie = filtered_df.loc[filtered_df['rating_mean'].idxmax()]\n",
        "\n",
        "# Display the most popular movie based on average user rating\n",
        "most_popular_movie_title = most_popular_movie['title']\n",
        "most_popular_movie_rating = most_popular_movie['rating_mean']\n",
        "\n",
        "most_popular_movie_title, most_popular_movie_rating\n"
      ],
      "metadata": {
        "colab": {
          "base_uri": "https://localhost:8080/"
        },
        "id": "vVD9DcnnrGRJ",
        "outputId": "95092cb3-00e4-4832-ac60-8cf16f903dd6"
      },
      "execution_count": 11,
      "outputs": [
        {
          "output_type": "execute_result",
          "data": {
            "text/plain": [
              "('Shawshank Redemption, The (1994)', 4.429022082018927)"
            ]
          },
          "metadata": {},
          "execution_count": 11
        }
      ]
    },
    {
      "cell_type": "code",
      "source": [
        "import pandas as pd\n",
        "\n",
        "# Load the CSV files\n",
        "ratings_file_path = '/content/ratings.csv'\n",
        "movies_file_path = '/content/movies.csv'\n",
        "\n",
        "# Read the ratings and movies CSV files into dataframes\n",
        "ratings_df = pd.read_csv(ratings_file_path)\n",
        "movies_df = pd.read_csv(movies_file_path)\n",
        "\n",
        "# Step 1: Group by 'movieId' and calculate the 'count' and 'mean' of ratings\n",
        "grouped_ratings = ratings_df.groupby('movieId').agg(\n",
        "    rating_count=('rating', 'count'),\n",
        "    rating_mean=('rating', 'mean')\n",
        ").reset_index()\n",
        "\n",
        "# Step 2: Merge the movies_df with grouped_ratings using an inner join on 'movieId'\n",
        "merged_df = pd.merge(movies_df, grouped_ratings, on='movieId', how='inner')\n",
        "\n",
        "# Step 3: Filter movies that have more than 50 user ratings\n",
        "filtered_df = merged_df[merged_df['rating_count'] > 50]\n",
        "\n",
        "# Step 4: Sort the filtered dataframe by 'rating_count' in descending order to get top 5 popular movies\n",
        "top_5_popular_movies = filtered_df.sort_values(by='rating_count', ascending=False).head(5)\n",
        "\n",
        "# Display the top 5 popular movies based on number of user ratings\n",
        "top_5_popular_movies[['movieId', 'title', 'rating_count']]\n"
      ],
      "metadata": {
        "colab": {
          "base_uri": "https://localhost:8080/",
          "height": 206
        },
        "id": "jXU0nPfArGTi",
        "outputId": "74a960d2-8229-4d97-ac1b-d444a5d9209d"
      },
      "execution_count": 12,
      "outputs": [
        {
          "output_type": "execute_result",
          "data": {
            "text/plain": [
              "      movieId                             title  rating_count\n",
              "314       356               Forrest Gump (1994)           329\n",
              "277       318  Shawshank Redemption, The (1994)           317\n",
              "257       296               Pulp Fiction (1994)           307\n",
              "510       593  Silence of the Lambs, The (1991)           279\n",
              "1938     2571                Matrix, The (1999)           278"
            ],
            "text/html": [
              "\n",
              "  <div id=\"df-31d1882f-00a6-42c4-857a-d1cb749bfb56\" class=\"colab-df-container\">\n",
              "    <div>\n",
              "<style scoped>\n",
              "    .dataframe tbody tr th:only-of-type {\n",
              "        vertical-align: middle;\n",
              "    }\n",
              "\n",
              "    .dataframe tbody tr th {\n",
              "        vertical-align: top;\n",
              "    }\n",
              "\n",
              "    .dataframe thead th {\n",
              "        text-align: right;\n",
              "    }\n",
              "</style>\n",
              "<table border=\"1\" class=\"dataframe\">\n",
              "  <thead>\n",
              "    <tr style=\"text-align: right;\">\n",
              "      <th></th>\n",
              "      <th>movieId</th>\n",
              "      <th>title</th>\n",
              "      <th>rating_count</th>\n",
              "    </tr>\n",
              "  </thead>\n",
              "  <tbody>\n",
              "    <tr>\n",
              "      <th>314</th>\n",
              "      <td>356</td>\n",
              "      <td>Forrest Gump (1994)</td>\n",
              "      <td>329</td>\n",
              "    </tr>\n",
              "    <tr>\n",
              "      <th>277</th>\n",
              "      <td>318</td>\n",
              "      <td>Shawshank Redemption, The (1994)</td>\n",
              "      <td>317</td>\n",
              "    </tr>\n",
              "    <tr>\n",
              "      <th>257</th>\n",
              "      <td>296</td>\n",
              "      <td>Pulp Fiction (1994)</td>\n",
              "      <td>307</td>\n",
              "    </tr>\n",
              "    <tr>\n",
              "      <th>510</th>\n",
              "      <td>593</td>\n",
              "      <td>Silence of the Lambs, The (1991)</td>\n",
              "      <td>279</td>\n",
              "    </tr>\n",
              "    <tr>\n",
              "      <th>1938</th>\n",
              "      <td>2571</td>\n",
              "      <td>Matrix, The (1999)</td>\n",
              "      <td>278</td>\n",
              "    </tr>\n",
              "  </tbody>\n",
              "</table>\n",
              "</div>\n",
              "    <div class=\"colab-df-buttons\">\n",
              "\n",
              "  <div class=\"colab-df-container\">\n",
              "    <button class=\"colab-df-convert\" onclick=\"convertToInteractive('df-31d1882f-00a6-42c4-857a-d1cb749bfb56')\"\n",
              "            title=\"Convert this dataframe to an interactive table.\"\n",
              "            style=\"display:none;\">\n",
              "\n",
              "  <svg xmlns=\"http://www.w3.org/2000/svg\" height=\"24px\" viewBox=\"0 -960 960 960\">\n",
              "    <path d=\"M120-120v-720h720v720H120Zm60-500h600v-160H180v160Zm220 220h160v-160H400v160Zm0 220h160v-160H400v160ZM180-400h160v-160H180v160Zm440 0h160v-160H620v160ZM180-180h160v-160H180v160Zm440 0h160v-160H620v160Z\"/>\n",
              "  </svg>\n",
              "    </button>\n",
              "\n",
              "  <style>\n",
              "    .colab-df-container {\n",
              "      display:flex;\n",
              "      gap: 12px;\n",
              "    }\n",
              "\n",
              "    .colab-df-convert {\n",
              "      background-color: #E8F0FE;\n",
              "      border: none;\n",
              "      border-radius: 50%;\n",
              "      cursor: pointer;\n",
              "      display: none;\n",
              "      fill: #1967D2;\n",
              "      height: 32px;\n",
              "      padding: 0 0 0 0;\n",
              "      width: 32px;\n",
              "    }\n",
              "\n",
              "    .colab-df-convert:hover {\n",
              "      background-color: #E2EBFA;\n",
              "      box-shadow: 0px 1px 2px rgba(60, 64, 67, 0.3), 0px 1px 3px 1px rgba(60, 64, 67, 0.15);\n",
              "      fill: #174EA6;\n",
              "    }\n",
              "\n",
              "    .colab-df-buttons div {\n",
              "      margin-bottom: 4px;\n",
              "    }\n",
              "\n",
              "    [theme=dark] .colab-df-convert {\n",
              "      background-color: #3B4455;\n",
              "      fill: #D2E3FC;\n",
              "    }\n",
              "\n",
              "    [theme=dark] .colab-df-convert:hover {\n",
              "      background-color: #434B5C;\n",
              "      box-shadow: 0px 1px 3px 1px rgba(0, 0, 0, 0.15);\n",
              "      filter: drop-shadow(0px 1px 2px rgba(0, 0, 0, 0.3));\n",
              "      fill: #FFFFFF;\n",
              "    }\n",
              "  </style>\n",
              "\n",
              "    <script>\n",
              "      const buttonEl =\n",
              "        document.querySelector('#df-31d1882f-00a6-42c4-857a-d1cb749bfb56 button.colab-df-convert');\n",
              "      buttonEl.style.display =\n",
              "        google.colab.kernel.accessAllowed ? 'block' : 'none';\n",
              "\n",
              "      async function convertToInteractive(key) {\n",
              "        const element = document.querySelector('#df-31d1882f-00a6-42c4-857a-d1cb749bfb56');\n",
              "        const dataTable =\n",
              "          await google.colab.kernel.invokeFunction('convertToInteractive',\n",
              "                                                    [key], {});\n",
              "        if (!dataTable) return;\n",
              "\n",
              "        const docLinkHtml = 'Like what you see? Visit the ' +\n",
              "          '<a target=\"_blank\" href=https://colab.research.google.com/notebooks/data_table.ipynb>data table notebook</a>'\n",
              "          + ' to learn more about interactive tables.';\n",
              "        element.innerHTML = '';\n",
              "        dataTable['output_type'] = 'display_data';\n",
              "        await google.colab.output.renderOutput(dataTable, element);\n",
              "        const docLink = document.createElement('div');\n",
              "        docLink.innerHTML = docLinkHtml;\n",
              "        element.appendChild(docLink);\n",
              "      }\n",
              "    </script>\n",
              "  </div>\n",
              "\n",
              "\n",
              "<div id=\"df-d128fa2d-e3fe-4f0e-aeb3-d0a9b0566d55\">\n",
              "  <button class=\"colab-df-quickchart\" onclick=\"quickchart('df-d128fa2d-e3fe-4f0e-aeb3-d0a9b0566d55')\"\n",
              "            title=\"Suggest charts\"\n",
              "            style=\"display:none;\">\n",
              "\n",
              "<svg xmlns=\"http://www.w3.org/2000/svg\" height=\"24px\"viewBox=\"0 0 24 24\"\n",
              "     width=\"24px\">\n",
              "    <g>\n",
              "        <path d=\"M19 3H5c-1.1 0-2 .9-2 2v14c0 1.1.9 2 2 2h14c1.1 0 2-.9 2-2V5c0-1.1-.9-2-2-2zM9 17H7v-7h2v7zm4 0h-2V7h2v10zm4 0h-2v-4h2v4z\"/>\n",
              "    </g>\n",
              "</svg>\n",
              "  </button>\n",
              "\n",
              "<style>\n",
              "  .colab-df-quickchart {\n",
              "      --bg-color: #E8F0FE;\n",
              "      --fill-color: #1967D2;\n",
              "      --hover-bg-color: #E2EBFA;\n",
              "      --hover-fill-color: #174EA6;\n",
              "      --disabled-fill-color: #AAA;\n",
              "      --disabled-bg-color: #DDD;\n",
              "  }\n",
              "\n",
              "  [theme=dark] .colab-df-quickchart {\n",
              "      --bg-color: #3B4455;\n",
              "      --fill-color: #D2E3FC;\n",
              "      --hover-bg-color: #434B5C;\n",
              "      --hover-fill-color: #FFFFFF;\n",
              "      --disabled-bg-color: #3B4455;\n",
              "      --disabled-fill-color: #666;\n",
              "  }\n",
              "\n",
              "  .colab-df-quickchart {\n",
              "    background-color: var(--bg-color);\n",
              "    border: none;\n",
              "    border-radius: 50%;\n",
              "    cursor: pointer;\n",
              "    display: none;\n",
              "    fill: var(--fill-color);\n",
              "    height: 32px;\n",
              "    padding: 0;\n",
              "    width: 32px;\n",
              "  }\n",
              "\n",
              "  .colab-df-quickchart:hover {\n",
              "    background-color: var(--hover-bg-color);\n",
              "    box-shadow: 0 1px 2px rgba(60, 64, 67, 0.3), 0 1px 3px 1px rgba(60, 64, 67, 0.15);\n",
              "    fill: var(--button-hover-fill-color);\n",
              "  }\n",
              "\n",
              "  .colab-df-quickchart-complete:disabled,\n",
              "  .colab-df-quickchart-complete:disabled:hover {\n",
              "    background-color: var(--disabled-bg-color);\n",
              "    fill: var(--disabled-fill-color);\n",
              "    box-shadow: none;\n",
              "  }\n",
              "\n",
              "  .colab-df-spinner {\n",
              "    border: 2px solid var(--fill-color);\n",
              "    border-color: transparent;\n",
              "    border-bottom-color: var(--fill-color);\n",
              "    animation:\n",
              "      spin 1s steps(1) infinite;\n",
              "  }\n",
              "\n",
              "  @keyframes spin {\n",
              "    0% {\n",
              "      border-color: transparent;\n",
              "      border-bottom-color: var(--fill-color);\n",
              "      border-left-color: var(--fill-color);\n",
              "    }\n",
              "    20% {\n",
              "      border-color: transparent;\n",
              "      border-left-color: var(--fill-color);\n",
              "      border-top-color: var(--fill-color);\n",
              "    }\n",
              "    30% {\n",
              "      border-color: transparent;\n",
              "      border-left-color: var(--fill-color);\n",
              "      border-top-color: var(--fill-color);\n",
              "      border-right-color: var(--fill-color);\n",
              "    }\n",
              "    40% {\n",
              "      border-color: transparent;\n",
              "      border-right-color: var(--fill-color);\n",
              "      border-top-color: var(--fill-color);\n",
              "    }\n",
              "    60% {\n",
              "      border-color: transparent;\n",
              "      border-right-color: var(--fill-color);\n",
              "    }\n",
              "    80% {\n",
              "      border-color: transparent;\n",
              "      border-right-color: var(--fill-color);\n",
              "      border-bottom-color: var(--fill-color);\n",
              "    }\n",
              "    90% {\n",
              "      border-color: transparent;\n",
              "      border-bottom-color: var(--fill-color);\n",
              "    }\n",
              "  }\n",
              "</style>\n",
              "\n",
              "  <script>\n",
              "    async function quickchart(key) {\n",
              "      const quickchartButtonEl =\n",
              "        document.querySelector('#' + key + ' button');\n",
              "      quickchartButtonEl.disabled = true;  // To prevent multiple clicks.\n",
              "      quickchartButtonEl.classList.add('colab-df-spinner');\n",
              "      try {\n",
              "        const charts = await google.colab.kernel.invokeFunction(\n",
              "            'suggestCharts', [key], {});\n",
              "      } catch (error) {\n",
              "        console.error('Error during call to suggestCharts:', error);\n",
              "      }\n",
              "      quickchartButtonEl.classList.remove('colab-df-spinner');\n",
              "      quickchartButtonEl.classList.add('colab-df-quickchart-complete');\n",
              "    }\n",
              "    (() => {\n",
              "      let quickchartButtonEl =\n",
              "        document.querySelector('#df-d128fa2d-e3fe-4f0e-aeb3-d0a9b0566d55 button');\n",
              "      quickchartButtonEl.style.display =\n",
              "        google.colab.kernel.accessAllowed ? 'block' : 'none';\n",
              "    })();\n",
              "  </script>\n",
              "</div>\n",
              "\n",
              "    </div>\n",
              "  </div>\n"
            ],
            "application/vnd.google.colaboratory.intrinsic+json": {
              "type": "dataframe",
              "summary": "{\n  \"name\": \"top_5_popular_movies[['movieId', 'title', 'rating_count']]\",\n  \"rows\": 5,\n  \"fields\": [\n    {\n      \"column\": \"movieId\",\n      \"properties\": {\n        \"dtype\": \"number\",\n        \"std\": 982,\n        \"min\": 296,\n        \"max\": 2571,\n        \"num_unique_values\": 5,\n        \"samples\": [\n          318,\n          2571,\n          296\n        ],\n        \"semantic_type\": \"\",\n        \"description\": \"\"\n      }\n    },\n    {\n      \"column\": \"title\",\n      \"properties\": {\n        \"dtype\": \"string\",\n        \"num_unique_values\": 5,\n        \"samples\": [\n          \"Shawshank Redemption, The (1994)\",\n          \"Matrix, The (1999)\",\n          \"Pulp Fiction (1994)\"\n        ],\n        \"semantic_type\": \"\",\n        \"description\": \"\"\n      }\n    },\n    {\n      \"column\": \"rating_count\",\n      \"properties\": {\n        \"dtype\": \"number\",\n        \"std\": 22,\n        \"min\": 278,\n        \"max\": 329,\n        \"num_unique_values\": 5,\n        \"samples\": [\n          317,\n          278,\n          307\n        ],\n        \"semantic_type\": \"\",\n        \"description\": \"\"\n      }\n    }\n  ]\n}"
            }
          },
          "metadata": {},
          "execution_count": 12
        }
      ]
    },
    {
      "cell_type": "code",
      "source": [
        "import pandas as pd\n",
        "\n",
        "# Load the CSV files\n",
        "ratings_file_path = '/content/ratings.csv'\n",
        "movies_file_path = '/content/movies.csv'\n",
        "\n",
        "# Read the ratings and movies CSV files into dataframes\n",
        "ratings_df = pd.read_csv(ratings_file_path)\n",
        "movies_df = pd.read_csv(movies_file_path)\n",
        "\n",
        "# Step 1: Group by 'movieId' and calculate the 'count' and 'mean' of ratings\n",
        "grouped_ratings = ratings_df.groupby('movieId').agg(\n",
        "    rating_count=('rating', 'count'),\n",
        "    rating_mean=('rating', 'mean')\n",
        ").reset_index()\n",
        "\n",
        "# Step 2: Merge the movies_df with grouped_ratings using an inner join on 'movieId'\n",
        "merged_df = pd.merge(movies_df, grouped_ratings, on='movieId', how='inner')\n",
        "\n",
        "# Step 3: Filter movies that have more than 50 user ratings\n",
        "filtered_df = merged_df[merged_df['rating_count'] > 50]\n",
        "\n",
        "# Step 4: Filter Sci-Fi movies\n",
        "sci_fi_movies = filtered_df[filtered_df['genres'].str.contains('Sci-Fi')]\n",
        "\n",
        "# Step 5: Sort the Sci-Fi movies by 'rating_count' in descending order\n",
        "sorted_sci_fi_movies = sci_fi_movies.sort_values(by='rating_count', ascending=False)\n",
        "\n",
        "# Get the third most popular Sci-Fi movie based on the number of user ratings\n",
        "third_most_popular_sci_fi_movie = sorted_sci_fi_movies.iloc[2]  # Index 2 is the third movie\n",
        "\n",
        "# Display the result\n",
        "third_most_popular_sci_fi_movie[['movieId', 'title', 'rating_count']]\n"
      ],
      "metadata": {
        "colab": {
          "base_uri": "https://localhost:8080/",
          "height": 178
        },
        "id": "vU0_DtXmrGWA",
        "outputId": "a2fa6451-6d94-4743-9ab4-8cc99c532c2b"
      },
      "execution_count": 13,
      "outputs": [
        {
          "output_type": "execute_result",
          "data": {
            "text/plain": [
              "movieId                          480\n",
              "title           Jurassic Park (1993)\n",
              "rating_count                     238\n",
              "Name: 418, dtype: object"
            ],
            "text/html": [
              "<div>\n",
              "<style scoped>\n",
              "    .dataframe tbody tr th:only-of-type {\n",
              "        vertical-align: middle;\n",
              "    }\n",
              "\n",
              "    .dataframe tbody tr th {\n",
              "        vertical-align: top;\n",
              "    }\n",
              "\n",
              "    .dataframe thead th {\n",
              "        text-align: right;\n",
              "    }\n",
              "</style>\n",
              "<table border=\"1\" class=\"dataframe\">\n",
              "  <thead>\n",
              "    <tr style=\"text-align: right;\">\n",
              "      <th></th>\n",
              "      <th>418</th>\n",
              "    </tr>\n",
              "  </thead>\n",
              "  <tbody>\n",
              "    <tr>\n",
              "      <th>movieId</th>\n",
              "      <td>480</td>\n",
              "    </tr>\n",
              "    <tr>\n",
              "      <th>title</th>\n",
              "      <td>Jurassic Park (1993)</td>\n",
              "    </tr>\n",
              "    <tr>\n",
              "      <th>rating_count</th>\n",
              "      <td>238</td>\n",
              "    </tr>\n",
              "  </tbody>\n",
              "</table>\n",
              "</div><br><label><b>dtype:</b> object</label>"
            ]
          },
          "metadata": {},
          "execution_count": 13
        }
      ]
    },
    {
      "cell_type": "code",
      "source": [
        "import pandas as pd\n",
        "\n",
        "# Load the links.csv file to get IMDB IDs\n",
        "links_file_path = '/content/links.csv'\n",
        "links_df = pd.read_csv(links_file_path)\n",
        "\n",
        "# Merge the filtered dataframe with links to get IMDB IDs\n",
        "merged_with_links_df = pd.merge(filtered_df, links_df, on='movieId', how='inner')\n",
        "\n",
        "# Function to construct IMDB URL from imdbId\n",
        "def get_imdb_url(imdbId):\n",
        "    return f'https://www.imdb.com/title/tt{int(imdbId):07d}/'\n",
        "\n",
        "# Example URL construction and output\n",
        "merged_with_links_df['imdb_url'] = merged_with_links_df['imdbId'].apply(get_imdb_url)\n",
        "\n",
        "# Display top 5 entries with constructed URLs\n",
        "merged_with_links_df[['movieId', 'title', 'imdbId', 'imdb_url']].head()\n",
        "\n",
        "# Now, for the scraping part, this would typically involve using BeautifulSoup or Selenium\n",
        "# However, without executing web scraping here, we provide a code template:\n",
        "\n",
        "\"\"\"\n",
        "# Example with requests and BeautifulSoup\n",
        "from bs4 import BeautifulSoup\n",
        "import requests\n",
        "\n",
        "def scrape_imdb_rating(imdb_url):\n",
        "    # Send a request to the IMDB URL\n",
        "    response = requests.get(imdb_url)\n",
        "    # Parse the HTML content\n",
        "    soup = BeautifulSoup(response.text, 'html.parser')\n",
        "\n",
        "    # Extract the rating (this CSS selector is an example, it may change)\n",
        "    rating = soup.select_one('span[itemprop=\"ratingValue\"]').text\n",
        "    return float(rating)\n",
        "\n",
        "# Applying the function to scrape all ratings\n",
        "merged_with_links_df['imdb_rating'] = merged_with_links_df['imdb_url'].apply(scrape_imdb_rating)\n",
        "\n",
        "# Find the movie with the highest IMDB rating\n",
        "highest_rated_movie = merged_with_links_df.loc[merged_with_links_df['imdb_rating'].idxmax()]\n",
        "\n",
        "# Output the movieId and title with the highest IMDB rating\n",
        "highest_rated_movie[['movieId', 'title', 'imdb_rating']]\n",
        "\"\"\"\n",
        "\n",
        "# Since the actual scraping part requires internet access and can run into web scraping policies,\n",
        "# the above code is a guide to what needs to be done.\n"
      ],
      "metadata": {
        "colab": {
          "base_uri": "https://localhost:8080/",
          "height": 140
        },
        "id": "I33iDFlmrGX6",
        "outputId": "e7ba8549-1ac3-4a3c-da35-515f43158d9d"
      },
      "execution_count": 14,
      "outputs": [
        {
          "output_type": "execute_result",
          "data": {
            "text/plain": [
              "'\\n# Example with requests and BeautifulSoup\\nfrom bs4 import BeautifulSoup\\nimport requests\\n\\ndef scrape_imdb_rating(imdb_url):\\n    # Send a request to the IMDB URL\\n    response = requests.get(imdb_url)\\n    # Parse the HTML content\\n    soup = BeautifulSoup(response.text, \\'html.parser\\')\\n    \\n    # Extract the rating (this CSS selector is an example, it may change)\\n    rating = soup.select_one(\\'span[itemprop=\"ratingValue\"]\\').text\\n    return float(rating)\\n\\n# Applying the function to scrape all ratings\\nmerged_with_links_df[\\'imdb_rating\\'] = merged_with_links_df[\\'imdb_url\\'].apply(scrape_imdb_rating)\\n\\n# Find the movie with the highest IMDB rating\\nhighest_rated_movie = merged_with_links_df.loc[merged_with_links_df[\\'imdb_rating\\'].idxmax()]\\n\\n# Output the movieId and title with the highest IMDB rating\\nhighest_rated_movie[[\\'movieId\\', \\'title\\', \\'imdb_rating\\']]\\n'"
            ],
            "application/vnd.google.colaboratory.intrinsic+json": {
              "type": "string"
            }
          },
          "metadata": {},
          "execution_count": 14
        }
      ]
    },
    {
      "cell_type": "code",
      "source": [
        "import pandas as pd\n",
        "\n",
        "# Load the links.csv file to get IMDB IDs\n",
        "links_file_path = '/content/links.csv'\n",
        "links_df = pd.read_csv(links_file_path)\n",
        "\n",
        "# Merging the filtered dataframe with the links dataframe to get IMDB IDs\n",
        "merged_with_links_df = pd.merge(filtered_df, links_df, on='movieId', how='inner')\n",
        "\n",
        "# Construct IMDB URL from imdbId\n",
        "merged_with_links_df['imdb_url'] = merged_with_links_df['imdbId'].apply(lambda x: f'https://www.imdb.com/title/tt{int(x):07d}/')\n",
        "\n",
        "# At this point, you would typically scrape the IMDB page for each URL to get the rating.\n",
        "# For demonstration, we'll assume a function `scrape_imdb_rating(imdb_url)` exists that returns the rating\n",
        "\n",
        "# Example function (placeholder for actual scraping logic)\n",
        "def scrape_imdb_rating(imdb_url):\n",
        "    # This function should contain the logic to scrape the IMDB page and extract the rating\n",
        "    # Placeholder return value for demonstration purposes\n",
        "    return 0  # Replace with actual scraping logic\n",
        "\n",
        "# Apply the scraping function to get ratings for all movies\n",
        "merged_with_links_df['imdb_rating'] = merged_with_links_df['imdb_url'].apply(scrape_imdb_rating)\n",
        "\n",
        "# Find the movie with the highest IMDB rating\n",
        "highest_rated_movie = merged_with_links_df.loc[merged_with_links_df['imdb_rating'].idxmax()]\n",
        "\n",
        "# Output the movieId of the movie with the highest IMDB rating\n",
        "highest_rated_movie_id = highest_rated_movie['movieId']\n",
        "highest_rated_movie_id\n"
      ],
      "metadata": {
        "colab": {
          "base_uri": "https://localhost:8080/"
        },
        "id": "3ABvO_zgtQmG",
        "outputId": "1316e02c-5085-461d-d1f3-bed1a014b64e"
      },
      "execution_count": 15,
      "outputs": [
        {
          "output_type": "execute_result",
          "data": {
            "text/plain": [
              "1"
            ]
          },
          "metadata": {},
          "execution_count": 15
        }
      ]
    },
    {
      "cell_type": "code",
      "source": [],
      "metadata": {
        "id": "ggTryfwjtQoY"
      },
      "execution_count": null,
      "outputs": []
    },
    {
      "cell_type": "code",
      "source": [],
      "metadata": {
        "id": "MC8CPOTqtQrt"
      },
      "execution_count": null,
      "outputs": []
    }
  ]
}